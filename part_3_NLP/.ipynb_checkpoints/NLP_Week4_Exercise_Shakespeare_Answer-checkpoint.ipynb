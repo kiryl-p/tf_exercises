{
  "nbformat": 4,
  "nbformat_minor": 0,
  "metadata": {
    "colab": {
      "name": "NLP_Week4_Exercise_Shakespeare_Answer.ipynb",
      "provenance": []
    },
    "kernelspec": {
      "name": "python3",
      "display_name": "Python 3"
    },
    "accelerator": "GPU"
  },
  "cells": [
    {
      "cell_type": "code",
      "metadata": {
        "id": "BOwsuGQQY9OL",
        "colab_type": "code",
        "colab": {
          "base_uri": "https://localhost:8080/",
          "height": 34
        },
        "outputId": "cf264ae4-bdd0-45f6-c072-30d6de90870a"
      },
      "source": [
        "try:\n",
        "  # %tensorflow_version only exists in Colab.\n",
        "  %tensorflow_version 2.x\n",
        "except Exception:\n",
        "  pass\n",
        "import tensorflow as tf\n",
        "\n",
        "from tensorflow.keras.preprocessing.sequence import pad_sequences\n",
        "from tensorflow.keras.layers import Embedding, LSTM, Dense, Dropout, Bidirectional\n",
        "from tensorflow.keras.preprocessing.text import Tokenizer\n",
        "from tensorflow.keras.models import Sequential\n",
        "from tensorflow.keras.optimizers import Adam\n",
        "from tensorflow.keras import regularizers\n",
        "import tensorflow.keras.utils as ku \n",
        "import numpy as np "
      ],
      "execution_count": 1,
      "outputs": [
        {
          "output_type": "stream",
          "text": [
            "TensorFlow 2.x selected.\n"
          ],
          "name": "stdout"
        }
      ]
    },
    {
      "cell_type": "code",
      "metadata": {
        "colab_type": "code",
        "id": "PRnDnCW-Z7qv",
        "colab": {
          "base_uri": "https://localhost:8080/",
          "height": 204
        },
        "outputId": "102fabd0-0778-4da1-afdf-6622c897abb8"
      },
      "source": [
        "tokenizer = Tokenizer()\n",
        "!wget --no-check-certificate \\\n",
        "    https://storage.googleapis.com/laurencemoroney-blog.appspot.com/sonnets.txt \\\n",
        "    -O /tmp/sonnets.txt\n",
        "data = open('/tmp/sonnets.txt').read()\n",
        "\n",
        "corpus = data.lower().split(\"\\n\")\n",
        "\n",
        "\n",
        "tokenizer.fit_on_texts(corpus)\n",
        "total_words = len(tokenizer.word_index) + 1\n",
        "\n",
        "# create input sequences using list of tokens\n",
        "input_sequences = []\n",
        "for line in corpus:\n",
        "\ttoken_list = tokenizer.texts_to_sequences([line])[0]\n",
        "\tfor i in range(1, len(token_list)):\n",
        "\t\tn_gram_sequence = token_list[:i+1]\n",
        "\t\tinput_sequences.append(n_gram_sequence)\n",
        "\n",
        "\n",
        "# pad sequences \n",
        "max_sequence_len = max([len(x) for x in input_sequences])\n",
        "input_sequences = np.array(pad_sequences(input_sequences, maxlen=max_sequence_len, padding='pre'))\n",
        "\n",
        "# create predictors and label\n",
        "predictors, label = input_sequences[:,:-1],input_sequences[:,-1]\n",
        "\n",
        "label = ku.to_categorical(label, num_classes=total_words)"
      ],
      "execution_count": 2,
      "outputs": [
        {
          "output_type": "stream",
          "text": [
            "--2020-02-03 20:54:24--  https://storage.googleapis.com/laurencemoroney-blog.appspot.com/sonnets.txt\n",
            "Resolving storage.googleapis.com (storage.googleapis.com)... 172.217.204.128, 2607:f8b0:400c:c07::80\n",
            "Connecting to storage.googleapis.com (storage.googleapis.com)|172.217.204.128|:443... connected.\n",
            "HTTP request sent, awaiting response... 200 OK\n",
            "Length: 93578 (91K) [text/plain]\n",
            "Saving to: ‘/tmp/sonnets.txt’\n",
            "\n",
            "\r/tmp/sonnets.txt      0%[                    ]       0  --.-KB/s               \r/tmp/sonnets.txt    100%[===================>]  91.38K  --.-KB/s    in 0.001s  \n",
            "\n",
            "2020-02-03 20:54:24 (155 MB/s) - ‘/tmp/sonnets.txt’ saved [93578/93578]\n",
            "\n"
          ],
          "name": "stdout"
        }
      ]
    },
    {
      "cell_type": "code",
      "metadata": {
        "id": "w9vH8Y59ajYL",
        "colab_type": "code",
        "colab": {
          "base_uri": "https://localhost:8080/",
          "height": 374
        },
        "outputId": "8f1a69c2-32c7-4f5d-9181-5e46924bd4e2"
      },
      "source": [
        "model = Sequential()\n",
        "model.add(Embedding(total_words, 100, input_length=max_sequence_len-1))\n",
        "model.add(Bidirectional(LSTM(150, return_sequences = True)))\n",
        "model.add(Dropout(0.2))\n",
        "model.add(LSTM(100))\n",
        "model.add(Dense(total_words/2, activation='relu', kernel_regularizer=regularizers.l2(0.01)))\n",
        "model.add(Dense(total_words, activation='softmax'))\n",
        "adam = Adam(lr=0.001)\n",
        "model.compile(loss='categorical_crossentropy', optimizer=adam, metrics=['accuracy'])\n",
        "print(model.summary())\n"
      ],
      "execution_count": 4,
      "outputs": [
        {
          "output_type": "stream",
          "text": [
            "Model: \"sequential_1\"\n",
            "_________________________________________________________________\n",
            "Layer (type)                 Output Shape              Param #   \n",
            "=================================================================\n",
            "embedding_1 (Embedding)      (None, 10, 100)           321100    \n",
            "_________________________________________________________________\n",
            "bidirectional_1 (Bidirection (None, 10, 300)           301200    \n",
            "_________________________________________________________________\n",
            "dropout_1 (Dropout)          (None, 10, 300)           0         \n",
            "_________________________________________________________________\n",
            "lstm_3 (LSTM)                (None, 100)               160400    \n",
            "_________________________________________________________________\n",
            "dense_2 (Dense)              (None, 1605)              162105    \n",
            "_________________________________________________________________\n",
            "dense_3 (Dense)              (None, 3211)              5156866   \n",
            "=================================================================\n",
            "Total params: 6,101,671\n",
            "Trainable params: 6,101,671\n",
            "Non-trainable params: 0\n",
            "_________________________________________________________________\n",
            "None\n"
          ],
          "name": "stdout"
        }
      ]
    },
    {
      "cell_type": "code",
      "metadata": {
        "id": "AIg2f1HBxqof",
        "colab_type": "code",
        "colab": {
          "base_uri": "https://localhost:8080/",
          "height": 1000
        },
        "outputId": "a1d1c370-3902-4673-86de-1b9a390e0119"
      },
      "source": [
        " history = model.fit(predictors, label, epochs=100, verbose=1)"
      ],
      "execution_count": 5,
      "outputs": [
        {
          "output_type": "stream",
          "text": [
            "Train on 15462 samples\n",
            "Epoch 1/100\n",
            "15462/15462 [==============================] - 16s 1ms/sample - loss: 6.9079 - accuracy: 0.0211\n",
            "Epoch 2/100\n",
            "15462/15462 [==============================] - 7s 469us/sample - loss: 6.5040 - accuracy: 0.0224\n",
            "Epoch 3/100\n",
            "15462/15462 [==============================] - 7s 455us/sample - loss: 6.4099 - accuracy: 0.0237\n",
            "Epoch 4/100\n",
            "15462/15462 [==============================] - 7s 464us/sample - loss: 6.2898 - accuracy: 0.0277\n",
            "Epoch 5/100\n",
            "15462/15462 [==============================] - 7s 456us/sample - loss: 6.1938 - accuracy: 0.0352\n",
            "Epoch 6/100\n",
            "15462/15462 [==============================] - 7s 459us/sample - loss: 6.1109 - accuracy: 0.0390\n",
            "Epoch 7/100\n",
            "15462/15462 [==============================] - 7s 451us/sample - loss: 6.0396 - accuracy: 0.0402\n",
            "Epoch 8/100\n",
            "15462/15462 [==============================] - 7s 454us/sample - loss: 5.9626 - accuracy: 0.0449\n",
            "Epoch 9/100\n",
            "15462/15462 [==============================] - 7s 453us/sample - loss: 5.8708 - accuracy: 0.0521\n",
            "Epoch 10/100\n",
            "15462/15462 [==============================] - 7s 474us/sample - loss: 5.7709 - accuracy: 0.0559\n",
            "Epoch 11/100\n",
            "15462/15462 [==============================] - 7s 450us/sample - loss: 5.6640 - accuracy: 0.0600\n",
            "Epoch 12/100\n",
            "15462/15462 [==============================] - 7s 457us/sample - loss: 5.5624 - accuracy: 0.0678\n",
            "Epoch 13/100\n",
            "15462/15462 [==============================] - 7s 456us/sample - loss: 5.4551 - accuracy: 0.0710\n",
            "Epoch 14/100\n",
            "15462/15462 [==============================] - 7s 450us/sample - loss: 5.3564 - accuracy: 0.0772\n",
            "Epoch 15/100\n",
            "15462/15462 [==============================] - 7s 468us/sample - loss: 5.2563 - accuracy: 0.0828\n",
            "Epoch 16/100\n",
            "15462/15462 [==============================] - 7s 449us/sample - loss: 5.1515 - accuracy: 0.0919\n",
            "Epoch 17/100\n",
            "15462/15462 [==============================] - 7s 462us/sample - loss: 5.0567 - accuracy: 0.0979\n",
            "Epoch 18/100\n",
            "15462/15462 [==============================] - 7s 461us/sample - loss: 4.9612 - accuracy: 0.1052\n",
            "Epoch 19/100\n",
            "15462/15462 [==============================] - 7s 456us/sample - loss: 4.8587 - accuracy: 0.1128\n",
            "Epoch 20/100\n",
            "15462/15462 [==============================] - 7s 456us/sample - loss: 4.7662 - accuracy: 0.1215\n",
            "Epoch 21/100\n",
            "15462/15462 [==============================] - 7s 472us/sample - loss: 4.6704 - accuracy: 0.1284\n",
            "Epoch 22/100\n",
            "15462/15462 [==============================] - 7s 462us/sample - loss: 4.5617 - accuracy: 0.1409\n",
            "Epoch 23/100\n",
            "15462/15462 [==============================] - 7s 464us/sample - loss: 4.4619 - accuracy: 0.1490\n",
            "Epoch 24/100\n",
            "15462/15462 [==============================] - 7s 453us/sample - loss: 4.3613 - accuracy: 0.1608\n",
            "Epoch 25/100\n",
            "15462/15462 [==============================] - 7s 453us/sample - loss: 4.2457 - accuracy: 0.1728\n",
            "Epoch 26/100\n",
            "15462/15462 [==============================] - 7s 477us/sample - loss: 4.1403 - accuracy: 0.1869\n",
            "Epoch 27/100\n",
            "15462/15462 [==============================] - 8s 489us/sample - loss: 4.0322 - accuracy: 0.2022\n",
            "Epoch 28/100\n",
            "15462/15462 [==============================] - 7s 454us/sample - loss: 3.9368 - accuracy: 0.2172\n",
            "Epoch 29/100\n",
            "15462/15462 [==============================] - 7s 462us/sample - loss: 3.8238 - accuracy: 0.2388\n",
            "Epoch 30/100\n",
            "15462/15462 [==============================] - 7s 454us/sample - loss: 3.7340 - accuracy: 0.2581\n",
            "Epoch 31/100\n",
            "15462/15462 [==============================] - 7s 462us/sample - loss: 3.6280 - accuracy: 0.2758\n",
            "Epoch 32/100\n",
            "15462/15462 [==============================] - 7s 465us/sample - loss: 3.5410 - accuracy: 0.2950\n",
            "Epoch 33/100\n",
            "15462/15462 [==============================] - 7s 458us/sample - loss: 3.4529 - accuracy: 0.3178\n",
            "Epoch 34/100\n",
            "15462/15462 [==============================] - 7s 461us/sample - loss: 3.3574 - accuracy: 0.3337\n",
            "Epoch 35/100\n",
            "15462/15462 [==============================] - 7s 473us/sample - loss: 3.2642 - accuracy: 0.3536\n",
            "Epoch 36/100\n",
            "15462/15462 [==============================] - 7s 464us/sample - loss: 3.1958 - accuracy: 0.3736\n",
            "Epoch 37/100\n",
            "15462/15462 [==============================] - 7s 460us/sample - loss: 3.1114 - accuracy: 0.3927\n",
            "Epoch 38/100\n",
            "15462/15462 [==============================] - 7s 470us/sample - loss: 3.0369 - accuracy: 0.4047\n",
            "Epoch 39/100\n",
            "15462/15462 [==============================] - 7s 456us/sample - loss: 2.9542 - accuracy: 0.4227\n",
            "Epoch 40/100\n",
            "15462/15462 [==============================] - 7s 467us/sample - loss: 2.8807 - accuracy: 0.4439\n",
            "Epoch 41/100\n",
            "15462/15462 [==============================] - 7s 450us/sample - loss: 2.8028 - accuracy: 0.4595\n",
            "Epoch 42/100\n",
            "15462/15462 [==============================] - 7s 465us/sample - loss: 2.7565 - accuracy: 0.4705\n",
            "Epoch 43/100\n",
            "15462/15462 [==============================] - 7s 467us/sample - loss: 2.6904 - accuracy: 0.4820\n",
            "Epoch 44/100\n",
            "15462/15462 [==============================] - 7s 478us/sample - loss: 2.6482 - accuracy: 0.4920\n",
            "Epoch 45/100\n",
            "15462/15462 [==============================] - 7s 475us/sample - loss: 2.5569 - accuracy: 0.5140\n",
            "Epoch 46/100\n",
            "15462/15462 [==============================] - 7s 472us/sample - loss: 2.5027 - accuracy: 0.5277\n",
            "Epoch 47/100\n",
            "15462/15462 [==============================] - 7s 453us/sample - loss: 2.4392 - accuracy: 0.5446\n",
            "Epoch 48/100\n",
            "15462/15462 [==============================] - 7s 470us/sample - loss: 2.3973 - accuracy: 0.5495\n",
            "Epoch 49/100\n",
            "15462/15462 [==============================] - 7s 462us/sample - loss: 2.3372 - accuracy: 0.5621\n",
            "Epoch 50/100\n",
            "15462/15462 [==============================] - 7s 466us/sample - loss: 2.3013 - accuracy: 0.5693\n",
            "Epoch 51/100\n",
            "15462/15462 [==============================] - 7s 460us/sample - loss: 2.2463 - accuracy: 0.5767\n",
            "Epoch 52/100\n",
            "15462/15462 [==============================] - 7s 466us/sample - loss: 2.2000 - accuracy: 0.5912\n",
            "Epoch 53/100\n",
            "15462/15462 [==============================] - 7s 457us/sample - loss: 2.1654 - accuracy: 0.6016\n",
            "Epoch 54/100\n",
            "15462/15462 [==============================] - 7s 469us/sample - loss: 2.1141 - accuracy: 0.6134\n",
            "Epoch 55/100\n",
            "15462/15462 [==============================] - 7s 460us/sample - loss: 2.0704 - accuracy: 0.6210\n",
            "Epoch 56/100\n",
            "15462/15462 [==============================] - 7s 457us/sample - loss: 2.0236 - accuracy: 0.6345\n",
            "Epoch 57/100\n",
            "15462/15462 [==============================] - 7s 460us/sample - loss: 2.0020 - accuracy: 0.6370\n",
            "Epoch 58/100\n",
            "15462/15462 [==============================] - 7s 464us/sample - loss: 1.9570 - accuracy: 0.6433\n",
            "Epoch 59/100\n",
            "15462/15462 [==============================] - 7s 467us/sample - loss: 1.9263 - accuracy: 0.6535\n",
            "Epoch 60/100\n",
            "15462/15462 [==============================] - 7s 479us/sample - loss: 1.8787 - accuracy: 0.6644\n",
            "Epoch 61/100\n",
            "15462/15462 [==============================] - 7s 460us/sample - loss: 1.8423 - accuracy: 0.6720\n",
            "Epoch 62/100\n",
            "15462/15462 [==============================] - 7s 465us/sample - loss: 1.8180 - accuracy: 0.6799\n",
            "Epoch 63/100\n",
            "15462/15462 [==============================] - 7s 472us/sample - loss: 1.7898 - accuracy: 0.6815\n",
            "Epoch 64/100\n",
            "15462/15462 [==============================] - 7s 464us/sample - loss: 1.7566 - accuracy: 0.6879\n",
            "Epoch 65/100\n",
            "15462/15462 [==============================] - 7s 462us/sample - loss: 1.7410 - accuracy: 0.6923\n",
            "Epoch 66/100\n",
            "15462/15462 [==============================] - 7s 444us/sample - loss: 1.7034 - accuracy: 0.7035\n",
            "Epoch 67/100\n",
            "15462/15462 [==============================] - 7s 461us/sample - loss: 1.6586 - accuracy: 0.7097\n",
            "Epoch 68/100\n",
            "15462/15462 [==============================] - 7s 472us/sample - loss: 1.6347 - accuracy: 0.7161\n",
            "Epoch 69/100\n",
            "15462/15462 [==============================] - 8s 498us/sample - loss: 1.6168 - accuracy: 0.7196\n",
            "Epoch 70/100\n",
            "15462/15462 [==============================] - 7s 475us/sample - loss: 1.5883 - accuracy: 0.7254\n",
            "Epoch 71/100\n",
            "15462/15462 [==============================] - 7s 469us/sample - loss: 1.5608 - accuracy: 0.7305\n",
            "Epoch 72/100\n",
            "15462/15462 [==============================] - 7s 460us/sample - loss: 1.5504 - accuracy: 0.7318\n",
            "Epoch 73/100\n",
            "15462/15462 [==============================] - 7s 465us/sample - loss: 1.5270 - accuracy: 0.7333\n",
            "Epoch 74/100\n",
            "15462/15462 [==============================] - 7s 450us/sample - loss: 1.5072 - accuracy: 0.7400\n",
            "Epoch 75/100\n",
            "15462/15462 [==============================] - 7s 462us/sample - loss: 1.4937 - accuracy: 0.7414\n",
            "Epoch 76/100\n",
            "15462/15462 [==============================] - 7s 459us/sample - loss: 1.4676 - accuracy: 0.7452\n",
            "Epoch 77/100\n",
            "15462/15462 [==============================] - 7s 470us/sample - loss: 1.4361 - accuracy: 0.7535\n",
            "Epoch 78/100\n",
            "15462/15462 [==============================] - 7s 456us/sample - loss: 1.4217 - accuracy: 0.7570\n",
            "Epoch 79/100\n",
            "15462/15462 [==============================] - 7s 463us/sample - loss: 1.4058 - accuracy: 0.7620\n",
            "Epoch 80/100\n",
            "15462/15462 [==============================] - 7s 461us/sample - loss: 1.3851 - accuracy: 0.7628\n",
            "Epoch 81/100\n",
            "15462/15462 [==============================] - 7s 454us/sample - loss: 1.3634 - accuracy: 0.7663\n",
            "Epoch 82/100\n",
            "15462/15462 [==============================] - 7s 472us/sample - loss: 1.3596 - accuracy: 0.7686\n",
            "Epoch 83/100\n",
            "15462/15462 [==============================] - 7s 472us/sample - loss: 1.3386 - accuracy: 0.7703\n",
            "Epoch 84/100\n",
            "15462/15462 [==============================] - 7s 467us/sample - loss: 1.3268 - accuracy: 0.7745\n",
            "Epoch 85/100\n",
            "15462/15462 [==============================] - 7s 473us/sample - loss: 1.3123 - accuracy: 0.7753\n",
            "Epoch 86/100\n",
            "15462/15462 [==============================] - 7s 461us/sample - loss: 1.3070 - accuracy: 0.7786\n",
            "Epoch 87/100\n",
            "15462/15462 [==============================] - 8s 487us/sample - loss: 1.2852 - accuracy: 0.7801\n",
            "Epoch 88/100\n",
            "15462/15462 [==============================] - 7s 484us/sample - loss: 1.2698 - accuracy: 0.7820\n",
            "Epoch 89/100\n",
            "15462/15462 [==============================] - 7s 478us/sample - loss: 1.2557 - accuracy: 0.7882\n",
            "Epoch 90/100\n",
            "15462/15462 [==============================] - 7s 478us/sample - loss: 1.2379 - accuracy: 0.7887\n",
            "Epoch 91/100\n",
            "15462/15462 [==============================] - 7s 479us/sample - loss: 1.2338 - accuracy: 0.7878\n",
            "Epoch 92/100\n",
            "15462/15462 [==============================] - 8s 503us/sample - loss: 1.2338 - accuracy: 0.7868\n",
            "Epoch 93/100\n",
            "15462/15462 [==============================] - 8s 516us/sample - loss: 1.2159 - accuracy: 0.7886\n",
            "Epoch 94/100\n",
            "15462/15462 [==============================] - 8s 502us/sample - loss: 1.1881 - accuracy: 0.7956\n",
            "Epoch 95/100\n",
            "15462/15462 [==============================] - 7s 481us/sample - loss: 1.1688 - accuracy: 0.7990\n",
            "Epoch 96/100\n",
            "15462/15462 [==============================] - 7s 482us/sample - loss: 1.1803 - accuracy: 0.7994\n",
            "Epoch 97/100\n",
            "15462/15462 [==============================] - 7s 472us/sample - loss: 1.1657 - accuracy: 0.7992\n",
            "Epoch 98/100\n",
            "15462/15462 [==============================] - 7s 480us/sample - loss: 1.1599 - accuracy: 0.7974\n",
            "Epoch 99/100\n",
            "15462/15462 [==============================] - 7s 474us/sample - loss: 1.1545 - accuracy: 0.8000\n",
            "Epoch 100/100\n",
            "15462/15462 [==============================] - 7s 472us/sample - loss: 1.1439 - accuracy: 0.8033\n"
          ],
          "name": "stdout"
        }
      ]
    },
    {
      "cell_type": "code",
      "metadata": {
        "id": "1fXTEO3GJ282",
        "colab_type": "code",
        "colab": {
          "base_uri": "https://localhost:8080/",
          "height": 545
        },
        "outputId": "24577120-3ec4-4e42-d7ce-f689118d2352"
      },
      "source": [
        "import matplotlib.pyplot as plt\n",
        "acc = history.history['accuracy']\n",
        "loss = history.history['loss']\n",
        "\n",
        "epochs = range(len(acc))\n",
        "\n",
        "plt.plot(epochs, acc, 'b', label='Training accuracy')\n",
        "plt.title('Training accuracy')\n",
        "\n",
        "plt.figure()\n",
        "\n",
        "plt.plot(epochs, loss, 'b', label='Training Loss')\n",
        "plt.title('Training loss')\n",
        "plt.legend()\n",
        "\n",
        "plt.show()"
      ],
      "execution_count": 7,
      "outputs": [
        {
          "output_type": "display_data",
          "data": {
            "image/png": "[encoded data removed]",
            "text/plain": [
              "<Figure size 432x288 with 1 Axes>"
            ]
          },
          "metadata": {
            "tags": []
          }
        },
        {
          "output_type": "display_data",
          "data": {
            "image/png": "[encoded data removed]",
            "text/plain": [
              "<Figure size 432x288 with 1 Axes>"
            ]
          },
          "metadata": {
            "tags": []
          }
        }
      ]
    },
    {
      "cell_type": "code",
      "metadata": {
        "id": "6Vc6PHgxa6Hm",
        "colab_type": "code",
        "colab": {
          "base_uri": "https://localhost:8080/",
          "height": 54
        },
        "outputId": "f9d8a984-82ea-4f7a-e60b-eb9287e04455"
      },
      "source": [
        "seed_text = \"Help me Obi Wan Kenobi, you're my only hope\"\n",
        "next_words = 100\n",
        "  \n",
        "for _ in range(next_words):\n",
        "\ttoken_list = tokenizer.texts_to_sequences([seed_text])[0]\n",
        "\ttoken_list = pad_sequences([token_list], maxlen=max_sequence_len-1, padding='pre')\n",
        "\tpredicted = model.predict_classes(token_list, verbose=0)\n",
        "\toutput_word = \"\"\n",
        "\tfor word, index in tokenizer.word_index.items():\n",
        "\t\tif index == predicted:\n",
        "\t\t\toutput_word = word\n",
        "\t\t\tbreak\n",
        "\tseed_text += \" \" + output_word\n",
        "print(seed_text)"
      ],
      "execution_count": 8,
      "outputs": [
        {
          "output_type": "stream",
          "text": [
            "Help me Obi Wan Kenobi, you're my only hope upon his honey steel moan level place green green back men torn back again at an friend sang torn torn torn gems torn back back thee thee men back again pace kind by days invent invent ' ' back back back back hence plight often so so men's rhyme days latch staineth place shown ' taste torn days weep back her face wide foul time near sinful shine new place ' bright ' torn torn torn ' seem well part back back again strong minds me so short strong place bright ' ' bright day back back back back left\n"
          ],
          "name": "stdout"
        }
      ]
    }
  ]
}