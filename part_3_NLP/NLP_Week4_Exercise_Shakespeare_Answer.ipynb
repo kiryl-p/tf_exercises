{
 "cells": [
  {
   "cell_type": "code",
   "execution_count": 5,
   "metadata": {
    "colab": {
     "base_uri": "https://localhost:8080/",
     "height": 34
    },
    "colab_type": "code",
    "id": "BOwsuGQQY9OL",
    "outputId": "cf264ae4-bdd0-45f6-c072-30d6de90870a"
   },
   "outputs": [],
   "source": [
    "import tensorflow as tf\n",
    "from tensorflow.keras.preprocessing.sequence import pad_sequences\n",
    "from tensorflow.keras.layers import Embedding, LSTM, Dense, Dropout, Bidirectional\n",
    "from tensorflow.keras.preprocessing.text import Tokenizer\n",
    "from tensorflow.keras.models import Sequential\n",
    "from tensorflow.keras.optimizers import Adam\n",
    "from tensorflow.keras import regularizers\n",
    "import tensorflow.keras.utils as ku \n",
    "import numpy as np "
   ]
  },
  {
   "cell_type": "code",
   "execution_count": 29,
   "metadata": {
    "colab": {
     "base_uri": "https://localhost:8080/",
     "height": 204
    },
    "colab_type": "code",
    "id": "PRnDnCW-Z7qv",
    "outputId": "102fabd0-0778-4da1-afdf-6622c897abb8"
   },
   "outputs": [],
   "source": [
    "tokenizer = Tokenizer()\n",
    "\n",
    "data = open('ML_wikipedia.txt').read()\n",
    "\n",
    "corpus = data.lower().split(\"\\n\")\n",
    "\n",
    "\n",
    "tokenizer.fit_on_texts(corpus)\n",
    "total_words = len(tokenizer.word_index) + 1\n",
    "\n",
    "# create input sequences using list of tokens\n",
    "input_sequences = []\n",
    "for line in corpus:\n",
    "\ttoken_list = tokenizer.texts_to_sequences([line])[0]\n",
    "\tfor i in range(1, len(token_list)):\n",
    "\t\tn_gram_sequence = token_list[:i+1]\n",
    "\t\tinput_sequences.append(n_gram_sequence)\n",
    "\n",
    "\n",
    "# pad sequences \n",
    "max_sequence_len = max([len(x) for x in input_sequences])\n",
    "input_sequences = np.array(pad_sequences(input_sequences, maxlen=50, padding='pre'))\n",
    "\n",
    "# create predictors and label\n",
    "predictors, label = input_sequences[:,:-1],input_sequences[:,-1]\n",
    "\n",
    "label = ku.to_categorical(label, num_classes=total_words)"
   ]
  },
  {
   "cell_type": "code",
   "execution_count": 30,
   "metadata": {},
   "outputs": [
    {
     "data": {
      "text/plain": [
       "array([ 0,  0,  0,  0,  0,  0,  0,  0,  0,  0,  0,  0,  0,  0,  0,  0,  0,\n",
       "        0,  0,  0,  0,  0,  0,  0,  0,  0,  0,  0,  0,  0,  0,  0,  0,  0,\n",
       "        0,  0,  0,  0,  0,  0,  0,  0,  0,  0,  0,  0,  0,  0, 11,  4])"
      ]
     },
     "execution_count": 30,
     "metadata": {},
     "output_type": "execute_result"
    }
   ],
   "source": [
    "input_sequences[0]"
   ]
  },
  {
   "cell_type": "code",
   "execution_count": 35,
   "metadata": {
    "colab": {
     "base_uri": "https://localhost:8080/",
     "height": 374
    },
    "colab_type": "code",
    "id": "w9vH8Y59ajYL",
    "outputId": "8f1a69c2-32c7-4f5d-9181-5e46924bd4e2"
   },
   "outputs": [
    {
     "name": "stdout",
     "output_type": "stream",
     "text": [
      "Model: \"sequential_4\"\n",
      "_________________________________________________________________\n",
      "Layer (type)                 Output Shape              Param #   \n",
      "=================================================================\n",
      "embedding_4 (Embedding)      (None, 49, 100)           137800    \n",
      "_________________________________________________________________\n",
      "bidirectional_4 (Bidirection (None, 49, 300)           301200    \n",
      "_________________________________________________________________\n",
      "dropout_4 (Dropout)          (None, 49, 300)           0         \n",
      "_________________________________________________________________\n",
      "lstm_9 (LSTM)                (None, 100)               160400    \n",
      "_________________________________________________________________\n",
      "dense_8 (Dense)              (None, 689)               69589     \n",
      "_________________________________________________________________\n",
      "dense_9 (Dense)              (None, 1378)              950820    \n",
      "=================================================================\n",
      "Total params: 1,619,809\n",
      "Trainable params: 1,619,809\n",
      "Non-trainable params: 0\n",
      "_________________________________________________________________\n",
      "None\n"
     ]
    }
   ],
   "source": [
    "model = Sequential()\n",
    "model.add(Embedding(total_words, 100, input_length=49))\n",
    "model.add(Bidirectional(LSTM(150, return_sequences = True)))\n",
    "model.add(Dropout(0.2))\n",
    "model.add(LSTM(100))\n",
    "model.add(Dense(total_words/2, activation='relu', kernel_regularizer=regularizers.l2(0.01)))\n",
    "model.add(Dense(total_words, activation='softmax'))\n",
    "adam = Adam(lr=0.001)\n",
    "model.compile(loss='categorical_crossentropy', optimizer=adam, metrics=['accuracy'])\n",
    "print(model.summary())\n"
   ]
  },
  {
   "cell_type": "code",
   "execution_count": 36,
   "metadata": {
    "colab": {
     "base_uri": "https://localhost:8080/",
     "height": 1000
    },
    "colab_type": "code",
    "id": "AIg2f1HBxqof",
    "outputId": "a1d1c370-3902-4673-86de-1b9a390e0119"
   },
   "outputs": [
    {
     "name": "stdout",
     "output_type": "stream",
     "text": [
      "Train on 5355 samples\n",
      "Epoch 1/100\n",
      "5355/5355 [==============================] - 36s 7ms/sample - loss: 6.8095 - accuracy: 0.0450\n",
      "Epoch 2/100\n",
      "5355/5355 [==============================] - 33s 6ms/sample - loss: 6.0062 - accuracy: 0.0523\n",
      "Epoch 3/100\n",
      "5355/5355 [==============================] - 32s 6ms/sample - loss: 5.8469 - accuracy: 0.0683\n",
      "Epoch 4/100\n",
      "5355/5355 [==============================] - 31s 6ms/sample - loss: 5.7626 - accuracy: 0.0777\n",
      "Epoch 5/100\n",
      "5355/5355 [==============================] - 31s 6ms/sample - loss: 5.6846 - accuracy: 0.0893\n",
      "Epoch 6/100\n",
      "5355/5355 [==============================] - 32s 6ms/sample - loss: 5.6045 - accuracy: 0.0975s - loss: 5.6\n",
      "Epoch 7/100\n",
      "5355/5355 [==============================] - 31s 6ms/sample - loss: 5.5040 - accuracy: 0.1048\n",
      "Epoch 8/100\n",
      "5355/5355 [==============================] - 31s 6ms/sample - loss: 5.4017 - accuracy: 0.1117\n",
      "Epoch 9/100\n",
      "5355/5355 [==============================] - 32s 6ms/sample - loss: 5.3029 - accuracy: 0.1178\n",
      "Epoch 10/100\n",
      "5355/5355 [==============================] - 32s 6ms/sample - loss: 5.2165 - accuracy: 0.1236\n",
      "Epoch 11/100\n",
      "5355/5355 [==============================] - 32s 6ms/sample - loss: 5.1368 - accuracy: 0.1244\n",
      "Epoch 12/100\n",
      "5355/5355 [==============================] - 32s 6ms/sample - loss: 5.0725 - accuracy: 0.1272\n",
      "Epoch 13/100\n",
      "5355/5355 [==============================] - 32s 6ms/sample - loss: 5.0137 - accuracy: 0.1283\n",
      "Epoch 14/100\n",
      "5355/5355 [==============================] - 34s 6ms/sample - loss: 4.9531 - accuracy: 0.1335\n",
      "Epoch 15/100\n",
      "5355/5355 [==============================] - 32s 6ms/sample - loss: 4.8870 - accuracy: 0.1343\n",
      "Epoch 16/100\n",
      "5355/5355 [==============================] - 33s 6ms/sample - loss: 4.8303 - accuracy: 0.1386\n",
      "Epoch 17/100\n",
      "5355/5355 [==============================] - 34s 6ms/sample - loss: 4.7714 - accuracy: 0.1429\n",
      "Epoch 18/100\n",
      "5355/5355 [==============================] - 32s 6ms/sample - loss: 4.7199 - accuracy: 0.1408\n",
      "Epoch 19/100\n",
      "5355/5355 [==============================] - 37s 7ms/sample - loss: 4.6648 - accuracy: 0.1466\n",
      "Epoch 20/100\n",
      "5355/5355 [==============================] - 34s 6ms/sample - loss: 4.6135 - accuracy: 0.1539\n",
      "Epoch 21/100\n",
      "5355/5355 [==============================] - 34s 6ms/sample - loss: 4.5604 - accuracy: 0.1557\n",
      "Epoch 22/100\n",
      "5355/5355 [==============================] - 33s 6ms/sample - loss: 4.5060 - accuracy: 0.1649\n",
      "Epoch 23/100\n",
      "5355/5355 [==============================] - 48s 9ms/sample - loss: 4.4510 - accuracy: 0.1694\n",
      "Epoch 24/100\n",
      "5355/5355 [==============================] - 48s 9ms/sample - loss: 4.4067 - accuracy: 0.1791\n",
      "Epoch 25/100\n",
      "5355/5355 [==============================] - 42s 8ms/sample - loss: 4.3565 - accuracy: 0.1856\n",
      "Epoch 26/100\n",
      "5355/5355 [==============================] - 40s 7ms/sample - loss: 4.3105 - accuracy: 0.1879\n",
      "Epoch 27/100\n",
      "5355/5355 [==============================] - 40s 7ms/sample - loss: 4.2533 - accuracy: 0.1925\n",
      "Epoch 28/100\n",
      "5355/5355 [==============================] - 40s 7ms/sample - loss: 4.2169 - accuracy: 0.1993\n",
      "Epoch 29/100\n",
      "5355/5355 [==============================] - 39s 7ms/sample - loss: 4.1489 - accuracy: 0.2082\n",
      "Epoch 30/100\n",
      "5355/5355 [==============================] - 40s 7ms/sample - loss: 4.1048 - accuracy: 0.2093\n",
      "Epoch 31/100\n",
      "5355/5355 [==============================] - 40s 8ms/sample - loss: 4.0516 - accuracy: 0.2149\n",
      "Epoch 32/100\n",
      "5355/5355 [==============================] - 41s 8ms/sample - loss: 4.0125 - accuracy: 0.2211\n",
      "Epoch 33/100\n",
      "5355/5355 [==============================] - 40s 8ms/sample - loss: 4.0003 - accuracy: 0.2230\n",
      "Epoch 34/100\n",
      "5355/5355 [==============================] - 40s 7ms/sample - loss: 3.9339 - accuracy: 0.2334\n",
      "Epoch 35/100\n",
      "5355/5355 [==============================] - 40s 7ms/sample - loss: 3.8757 - accuracy: 0.2403\n",
      "Epoch 36/100\n",
      "5355/5355 [==============================] - 40s 7ms/sample - loss: 3.8155 - accuracy: 0.2497\n",
      "Epoch 37/100\n",
      "5355/5355 [==============================] - 41s 8ms/sample - loss: 3.7934 - accuracy: 0.2532\n",
      "Epoch 38/100\n",
      "5355/5355 [==============================] - 40s 7ms/sample - loss: 3.7584 - accuracy: 0.2573\n",
      "Epoch 39/100\n",
      "5355/5355 [==============================] - 40s 7ms/sample - loss: 3.6895 - accuracy: 0.2661\n",
      "Epoch 40/100\n",
      "5355/5355 [==============================] - 40s 7ms/sample - loss: 3.6481 - accuracy: 0.2743\n",
      "Epoch 41/100\n",
      "5355/5355 [==============================] - 40s 7ms/sample - loss: 3.5945 - accuracy: 0.2782\n",
      "Epoch 42/100\n",
      "5355/5355 [==============================] - 40s 7ms/sample - loss: 3.5439 - accuracy: 0.2859\n",
      "Epoch 43/100\n",
      "5355/5355 [==============================] - 41s 8ms/sample - loss: 3.5198 - accuracy: 0.2898\n",
      "Epoch 44/100\n",
      "5355/5355 [==============================] - 40s 7ms/sample - loss: 3.4566 - accuracy: 0.2997\n",
      "Epoch 45/100\n",
      "5355/5355 [==============================] - 40s 8ms/sample - loss: 3.4201 - accuracy: 0.3074\n",
      "Epoch 46/100\n",
      "5355/5355 [==============================] - 41s 8ms/sample - loss: 3.4064 - accuracy: 0.3087\n",
      "Epoch 47/100\n",
      "5355/5355 [==============================] - 41s 8ms/sample - loss: 3.4759 - accuracy: 0.2979\n",
      "Epoch 48/100\n",
      "5355/5355 [==============================] - 41s 8ms/sample - loss: 3.3720 - accuracy: 0.3102\n",
      "Epoch 49/100\n",
      "5355/5355 [==============================] - 41s 8ms/sample - loss: 3.3076 - accuracy: 0.3261\n",
      "Epoch 50/100\n",
      "5355/5355 [==============================] - 40s 8ms/sample - loss: 3.2546 - accuracy: 0.3298\n",
      "Epoch 51/100\n",
      "5355/5355 [==============================] - 40s 7ms/sample - loss: 3.2093 - accuracy: 0.3369\n",
      "Epoch 52/100\n",
      "5355/5355 [==============================] - 41s 8ms/sample - loss: 3.1601 - accuracy: 0.3419\n",
      "Epoch 53/100\n",
      "5355/5355 [==============================] - 40s 7ms/sample - loss: 3.1336 - accuracy: 0.3481\n",
      "Epoch 54/100\n",
      "5355/5355 [==============================] - 40s 8ms/sample - loss: 3.0982 - accuracy: 0.3541\n",
      "Epoch 55/100\n",
      "5355/5355 [==============================] - 40s 7ms/sample - loss: 3.0403 - accuracy: 0.3653\n",
      "Epoch 56/100\n",
      "5355/5355 [==============================] - 41s 8ms/sample - loss: 3.0133 - accuracy: 0.3705\n",
      "Epoch 57/100\n",
      "5355/5355 [==============================] - 40s 8ms/sample - loss: 2.9708 - accuracy: 0.3729\n",
      "Epoch 58/100\n",
      "5355/5355 [==============================] - 42s 8ms/sample - loss: 2.9383 - accuracy: 0.3828\n",
      "Epoch 59/100\n",
      "5355/5355 [==============================] - 43s 8ms/sample - loss: 2.9006 - accuracy: 0.3916\n",
      "Epoch 60/100\n",
      "5355/5355 [==============================] - 40s 7ms/sample - loss: 2.8727 - accuracy: 0.3974\n",
      "Epoch 61/100\n",
      "5355/5355 [==============================] - 40s 8ms/sample - loss: 2.8383 - accuracy: 0.3989\n",
      "Epoch 62/100\n",
      "5355/5355 [==============================] - 43s 8ms/sample - loss: 2.7910 - accuracy: 0.4103\n",
      "Epoch 63/100\n",
      "5355/5355 [==============================] - 42s 8ms/sample - loss: 2.8485 - accuracy: 0.4075\n",
      "Epoch 64/100\n",
      "5355/5355 [==============================] - 42s 8ms/sample - loss: 2.8082 - accuracy: 0.4108\n",
      "Epoch 65/100\n",
      "5355/5355 [==============================] - 41s 8ms/sample - loss: 2.7460 - accuracy: 0.4245\n",
      "Epoch 66/100\n",
      "5355/5355 [==============================] - 42s 8ms/sample - loss: 2.7121 - accuracy: 0.4295\n",
      "Epoch 67/100\n",
      "5355/5355 [==============================] - 43s 8ms/sample - loss: 2.6705 - accuracy: 0.4446\n",
      "Epoch 68/100\n",
      "5355/5355 [==============================] - 42s 8ms/sample - loss: 2.6226 - accuracy: 0.4506\n",
      "Epoch 69/100\n",
      "5355/5355 [==============================] - 42s 8ms/sample - loss: 2.5884 - accuracy: 0.4611\n",
      "Epoch 70/100\n",
      "5355/5355 [==============================] - 41s 8ms/sample - loss: 2.5748 - accuracy: 0.4618\n",
      "Epoch 71/100\n",
      "5355/5355 [==============================] - 42s 8ms/sample - loss: 2.5398 - accuracy: 0.4698\n",
      "Epoch 72/100\n",
      "5355/5355 [==============================] - 41s 8ms/sample - loss: 2.5023 - accuracy: 0.4728\n",
      "Epoch 73/100\n",
      "5355/5355 [==============================] - 41s 8ms/sample - loss: 2.4831 - accuracy: 0.4818\n",
      "Epoch 74/100\n",
      "5355/5355 [==============================] - 41s 8ms/sample - loss: 2.4619 - accuracy: 0.4840\n",
      "Epoch 75/100\n",
      "5355/5355 [==============================] - 41s 8ms/sample - loss: 2.4082 - accuracy: 0.4992\n",
      "Epoch 76/100\n",
      "5355/5355 [==============================] - 42s 8ms/sample - loss: 2.3754 - accuracy: 0.5115\n",
      "Epoch 77/100\n",
      "5355/5355 [==============================] - 41s 8ms/sample - loss: 2.3534 - accuracy: 0.5122\n",
      "Epoch 78/100\n",
      "5355/5355 [==============================] - 42s 8ms/sample - loss: 2.3153 - accuracy: 0.5264\n",
      "Epoch 79/100\n",
      "5355/5355 [==============================] - 41s 8ms/sample - loss: 2.2991 - accuracy: 0.5261\n",
      "Epoch 80/100\n",
      "5355/5355 [==============================] - 42s 8ms/sample - loss: 2.2609 - accuracy: 0.5397\n",
      "Epoch 81/100\n",
      "5355/5355 [==============================] - 43s 8ms/sample - loss: 2.2424 - accuracy: 0.5434\n",
      "Epoch 82/100\n",
      "5355/5355 [==============================] - 42s 8ms/sample - loss: 2.2141 - accuracy: 0.5447\n",
      "Epoch 83/100\n",
      "5355/5355 [==============================] - 41s 8ms/sample - loss: 2.1848 - accuracy: 0.5539\n",
      "Epoch 84/100\n",
      "5355/5355 [==============================] - 42s 8ms/sample - loss: 2.1778 - accuracy: 0.5518\n",
      "Epoch 85/100\n",
      "5355/5355 [==============================] - 44s 8ms/sample - loss: 2.1606 - accuracy: 0.5565\n",
      "Epoch 86/100\n",
      "5355/5355 [==============================] - 43s 8ms/sample - loss: 2.1209 - accuracy: 0.5707\n",
      "Epoch 87/100\n",
      "5355/5355 [==============================] - 44s 8ms/sample - loss: 2.0845 - accuracy: 0.5793\n",
      "Epoch 88/100\n",
      "5355/5355 [==============================] - 42s 8ms/sample - loss: 2.0593 - accuracy: 0.5838\n",
      "Epoch 89/100\n",
      "5355/5355 [==============================] - 48s 9ms/sample - loss: 2.0511 - accuracy: 0.5886\n",
      "Epoch 90/100\n",
      "5355/5355 [==============================] - 46s 9ms/sample - loss: 2.0331 - accuracy: 0.5851\n",
      "Epoch 91/100\n",
      "5355/5355 [==============================] - 47s 9ms/sample - loss: 2.0073 - accuracy: 0.6034\n",
      "Epoch 92/100\n",
      "5355/5355 [==============================] - 46s 8ms/sample - loss: 1.9683 - accuracy: 0.6015\n",
      "Epoch 93/100\n",
      "5355/5355 [==============================] - 41s 8ms/sample - loss: 1.9532 - accuracy: 0.6110\n",
      "Epoch 94/100\n",
      "5355/5355 [==============================] - 42s 8ms/sample - loss: 1.9145 - accuracy: 0.6196\n",
      "Epoch 95/100\n",
      "5355/5355 [==============================] - 42s 8ms/sample - loss: 1.9023 - accuracy: 0.6261\n",
      "Epoch 96/100\n",
      "5355/5355 [==============================] - 43s 8ms/sample - loss: 1.8897 - accuracy: 0.6258\n",
      "Epoch 97/100\n",
      "5355/5355 [==============================] - 42s 8ms/sample - loss: 1.8762 - accuracy: 0.6289\n",
      "Epoch 98/100\n",
      "5355/5355 [==============================] - 42s 8ms/sample - loss: 1.8404 - accuracy: 0.6390\n",
      "Epoch 99/100\n",
      "5355/5355 [==============================] - 42s 8ms/sample - loss: 1.8136 - accuracy: 0.6465\n",
      "Epoch 100/100\n",
      "5355/5355 [==============================] - 42s 8ms/sample - loss: 1.7859 - accuracy: 0.6528\n"
     ]
    }
   ],
   "source": [
    " history = model.fit(predictors, label, epochs=100, verbose=1)"
   ]
  },
  {
   "cell_type": "code",
   "execution_count": 39,
   "metadata": {
    "colab": {
     "base_uri": "https://localhost:8080/",
     "height": 545
    },
    "colab_type": "code",
    "id": "1fXTEO3GJ282",
    "outputId": "24577120-3ec4-4e42-d7ce-f689118d2352"
   },
   "outputs": [
    {
     "data": {
      "image/png": "[encoded data removed]",
      "text/plain": [
       "<Figure size 432x288 with 1 Axes>"
      ]
     },
     "metadata": {
      "needs_background": "light"
     },
     "output_type": "display_data"
    },
    {
     "data": {
      "image/png": "[encoded data removed]",
      "text/plain": [
       "<Figure size 432x288 with 1 Axes>"
      ]
     },
     "metadata": {
      "needs_background": "light"
     },
     "output_type": "display_data"
    }
   ],
   "source": [
    "%matplotlib inline\n",
    "import matplotlib.pyplot as plt\n",
    "\n",
    "acc = history.history['accuracy']\n",
    "loss = history.history['loss']\n",
    "\n",
    "epochs = range(len(acc))\n",
    "\n",
    "plt.plot(epochs, acc, 'b', label='Training accuracy')\n",
    "plt.title('Training accuracy')\n",
    "\n",
    "plt.figure()\n",
    "\n",
    "plt.plot(epochs, loss, 'b', label='Training Loss')\n",
    "plt.title('Training loss')\n",
    "plt.legend()\n",
    "\n",
    "plt.show()"
   ]
  },
  {
   "cell_type": "code",
   "execution_count": 41,
   "metadata": {
    "colab": {
     "base_uri": "https://localhost:8080/",
     "height": 54
    },
    "colab_type": "code",
    "id": "6Vc6PHgxa6Hm",
    "outputId": "f9d8a984-82ea-4f7a-e60b-eb9287e04455"
   },
   "outputs": [
    {
     "name": "stdout",
     "output_type": "stream",
     "text": [
      "Dear AI, what is machine learning is concerned with how software agents ought to adjusts video 42 patterns instead supervised learning algorithms learn each circular node represents a image would inputs and no brain is a human opponent 2 3 other specialized algorithms in machine learning model in video coming to predict the output would be the type of data the field that mimics the problem that decentralizes a training data this is a training set of example an artificial neuron and a training data is a mathematical model has one machine learning methods are large scale transaction data are model are noisy representative of wet machine learning is concerned with how software agents ought to machines recognition and data set the field that entails all positive and no external teacher advices the caa self learning is pattern out of density estimation in turing's proposal the performance or inputs properties the rules and image learns a set of values that were not spam 5 tom m mitchell provided a range specific features with a mathematical model to have restricted to a set of data that contains both the inputs and the desired outputs 22 the data is order to theoretical have called these were 25 using discovering regularities between products in large scale transaction data recorded by point of replaced commonalities the output and each cluster or medical diagnosis 13 708â€“710 example while in a biological brain can be generated by the model such in polynomial general circular rewards that machines dynamic programming is a weight is terms of machine learning is concerned proper in contrast by some loss such by polynomial model set that has been labeled or data data that a mathematical model of a set of data that contains both the inputs and the same separate using artificial neuron to be generated by the model such that enables it to play a game against a human opponent 2 3 machine learning algorithms are regression are used with in behavioral environment after receiving the sprinkler is databases the training data data that feedback in the class of inputs after receiving the same cluster are dissimilar the ability to theoretical induction suggesting a set of data that contains both the inputs and the same separate using artificial neuron to be generated by the model such that enables it to play a game against a human opponent 2 3 machine learning algorithms are regression are used with in behavioral environment after receiving the sprinkler is databases the training data data that feedback in the class of inputs after receiving the same cluster are dissimilar the ability to theoretical induction suggesting a set of data that contains both the inputs and the same separate using artificial neuron to be generated by the model such that enables it to play a game against a human opponent 2 3 machine learning algorithms are regression are used with in behavioral environment after receiving the sprinkler is databases the training data data that feedback in the class of inputs after receiving\n"
     ]
    }
   ],
   "source": [
    "seed_text = \"Dear AI, what is machine learning\"\n",
    "next_words = 500\n",
    "  \n",
    "for _ in range(next_words):\n",
    "\ttoken_list = tokenizer.texts_to_sequences([seed_text])[0]\n",
    "\ttoken_list = pad_sequences([token_list], maxlen=49, padding='pre')\n",
    "\tpredicted = model.predict_classes(token_list, verbose=0)\n",
    "\toutput_word = \"\"\n",
    "\tfor word, index in tokenizer.word_index.items():\n",
    "\t\tif index == predicted:\n",
    "\t\t\toutput_word = word\n",
    "\t\t\tbreak\n",
    "\tseed_text += \" \" + output_word\n",
    "print(seed_text)"
   ]
  },
  {
   "cell_type": "code",
   "execution_count": null,
   "metadata": {},
   "outputs": [],
   "source": []
  }
 ],
 "metadata": {
  "accelerator": "GPU",
  "colab": {
   "name": "NLP_Week4_Exercise_Shakespeare_Answer.ipynb",
   "provenance": []
  },
  "kernelspec": {
   "display_name": "Python 3",
   "language": "python",
   "name": "python3"
  },
  "language_info": {
   "codemirror_mode": {
    "name": "ipython",
    "version": 3
   },
   "file_extension": ".py",
   "mimetype": "text/x-python",
   "name": "python",
   "nbconvert_exporter": "python",
   "pygments_lexer": "ipython3",
   "version": "3.7.4"
  }
 },
 "nbformat": 4,
 "nbformat_minor": 4
}
