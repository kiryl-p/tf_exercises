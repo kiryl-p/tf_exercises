{
 "cells": [
  {
   "cell_type": "code",
   "execution_count": 1,
   "metadata": {
    "colab": {
     "base_uri": "https://localhost:8080/",
     "height": 63
    },
    "colab_type": "code",
    "id": "hmA6EzkQJ5jt",
    "outputId": "c216a74e-ba10-4794-e643-b3d3c252620e"
   },
   "outputs": [
    {
     "data": {
      "text/html": [
       "<p style=\"color: red;\">\n",
       "The default version of TensorFlow in Colab will soon switch to TensorFlow 2.x.<br>\n",
       "We recommend you <a href=\"https://www.tensorflow.org/guide/migrate\" target=\"_blank\">upgrade</a> now \n",
       "or ensure your notebook will continue to use TensorFlow 1.x via the <code>%tensorflow_version 1.x</code> magic:\n",
       "<a href=\"https://colab.research.google.com/notebooks/tensorflow_version.ipynb\" target=\"_blank\">more info</a>.</p>\n"
      ],
      "text/plain": [
       "<IPython.core.display.HTML object>"
      ]
     },
     "metadata": {
      "tags": []
     },
     "output_type": "display_data"
    }
   ],
   "source": [
    "import json\n",
    "import tensorflow as tf\n",
    "import csv\n",
    "import random\n",
    "import numpy as np\n",
    "\n",
    "from tensorflow.keras.preprocessing.text import Tokenizer\n",
    "from tensorflow.keras.preprocessing.sequence import pad_sequences\n",
    "from tensorflow.keras.utils import to_categorical\n",
    "from tensorflow.keras import regularizers\n",
    "\n",
    "\n",
    "embedding_dim = 100\n",
    "max_length = 16\n",
    "trunc_type='post'\n",
    "padding_type='post'\n",
    "oov_tok = \"<OOV>\"\n",
    "training_size=160000\n",
    "test_portion=.1\n",
    "\n",
    "corpus = []\n"
   ]
  },
  {
   "cell_type": "code",
   "execution_count": 2,
   "metadata": {
    "colab": {
     "base_uri": "https://localhost:8080/",
     "height": 204
    },
    "colab_type": "code",
    "id": "bM0l_dORKqE0",
    "outputId": "dbb75237-8718-4d08-f53d-3137b0fc7e66"
   },
   "outputs": [
    {
     "name": "stdout",
     "output_type": "stream",
     "text": [
      "--2020-01-27 02:34:54--  https://storage.googleapis.com/laurencemoroney-blog.appspot.com/training_cleaned.csv\n",
      "Resolving storage.googleapis.com (storage.googleapis.com)... 74.125.69.128, 2607:f8b0:4001:c07::80\n",
      "Connecting to storage.googleapis.com (storage.googleapis.com)|74.125.69.128|:443... connected.\n",
      "HTTP request sent, awaiting response... 200 OK\n",
      "Length: 238942690 (228M) [application/octet-stream]\n",
      "Saving to: ‘/tmp/training_cleaned.csv’\n",
      "\n",
      "/tmp/training_clean 100%[===================>] 227.87M   160MB/s    in 1.4s    \n",
      "\n",
      "2020-01-27 02:34:56 (160 MB/s) - ‘/tmp/training_cleaned.csv’ saved [238942690/238942690]\n",
      "\n"
     ]
    }
   ],
   "source": [
    "\n",
    "# Note that I cleaned the Stanford dataset to remove LATIN1 encoding to make it easier for Python CSV reader\n",
    "# You can do that yourself with:\n",
    "# iconv -f LATIN1 -t UTF8 training.1600000.processed.noemoticon.csv -o training_cleaned.csv\n",
    "# I then hosted it on my site to make it easier to use in this notebook\n",
    "\n",
    "!wget --no-check-certificate \\\n",
    "    https://storage.googleapis.com/laurencemoroney-blog.appspot.com/training_cleaned.csv \\\n",
    "    -O /tmp/training_cleaned.csv\n",
    "\n",
    "num_sentences = 0\n",
    "\n",
    "with open(\"/tmp/training_cleaned.csv\") as csvfile:\n",
    "    reader = csv.reader(csvfile, delimiter=',')\n",
    "    for row in reader:\n",
    "        list_item=[]\n",
    "        list_item.append(row[5])\n",
    "        this_label=row[0]\n",
    "        if this_label=='0':\n",
    "            list_item.append(0)\n",
    "        else:\n",
    "            list_item.append(1)\n",
    "        num_sentences = num_sentences + 1\n",
    "        corpus.append(list_item)\n",
    "\n",
    "\n"
   ]
  },
  {
   "cell_type": "code",
   "execution_count": 3,
   "metadata": {
    "colab": {
     "base_uri": "https://localhost:8080/",
     "height": 68
    },
    "colab_type": "code",
    "id": "3kxblBUjEUX-",
    "outputId": "7c9801b6-3303-486e-94da-16a2ce23b424"
   },
   "outputs": [
    {
     "name": "stdout",
     "output_type": "stream",
     "text": [
      "1600000\n",
      "1600000\n",
      "[\"is upset that he can't update his Facebook by texting it... and might cry as a result  School today also. Blah!\", 0]\n"
     ]
    }
   ],
   "source": [
    "print(num_sentences)\n",
    "print(len(corpus))\n",
    "print(corpus[1])\n",
    "\n",
    "# Expected Output:\n",
    "# 1600000\n",
    "# 1600000\n",
    "# [\"is upset that he can't update his Facebook by texting it... and might cry as a result  School today also. Blah!\", 0]"
   ]
  },
  {
   "cell_type": "code",
   "execution_count": 0,
   "metadata": {
    "colab": {},
    "colab_type": "code",
    "id": "ohOGz24lsNAD"
   },
   "outputs": [],
   "source": [
    "sentences=[]\n",
    "labels=[]\n",
    "random.shuffle(corpus)\n",
    "for x in range(training_size):\n",
    "    sentences.append(corpus[x][0])\n",
    "    labels.append(corpus[x][1])\n",
    "\n",
    "\n",
    "tokenizer = Tokenizer()\n",
    "tokenizer.fit_on_texts(sentences)\n",
    "\n",
    "word_index = tokenizer.word_index\n",
    "vocab_size=len(word_index)\n",
    "\n",
    "sequences = tokenizer.texts_to_sequences(sentences)\n",
    "padded = pad_sequences(sequences, maxlen=max_length, padding=padding_type, truncating=trunc_type)\n",
    "\n",
    "split = int(test_portion * training_size)\n",
    "\n",
    "test_sequences = padded[0:split]\n",
    "training_sequences = padded[split:training_size]\n",
    "test_labels = labels[0:split]\n",
    "training_labels = labels[split:training_size]"
   ]
  },
  {
   "cell_type": "code",
   "execution_count": 5,
   "metadata": {
    "colab": {
     "base_uri": "https://localhost:8080/",
     "height": 51
    },
    "colab_type": "code",
    "id": "gIrtRem1En3N",
    "outputId": "b767ff40-69ff-45e1-8c59-8bfb95efaa74"
   },
   "outputs": [
    {
     "name": "stdout",
     "output_type": "stream",
     "text": [
      "138554\n",
      "1\n"
     ]
    }
   ],
   "source": [
    "print(vocab_size)\n",
    "print(word_index['i'])\n",
    "# Expected Output\n",
    "# 138858\n",
    "# 1"
   ]
  },
  {
   "cell_type": "code",
   "execution_count": 6,
   "metadata": {
    "colab": {
     "base_uri": "https://localhost:8080/",
     "height": 204
    },
    "colab_type": "code",
    "id": "C1zdgJkusRh0",
    "outputId": "d1981e1b-3ed0-4bfd-d6fa-5112341fb741"
   },
   "outputs": [
    {
     "name": "stdout",
     "output_type": "stream",
     "text": [
      "--2020-01-27 02:35:09--  https://storage.googleapis.com/laurencemoroney-blog.appspot.com/glove.6B.100d.txt\n",
      "Resolving storage.googleapis.com (storage.googleapis.com)... 108.177.112.128, 2607:f8b0:4001:c07::80\n",
      "Connecting to storage.googleapis.com (storage.googleapis.com)|108.177.112.128|:443... connected.\n",
      "HTTP request sent, awaiting response... 200 OK\n",
      "Length: 347116733 (331M) [text/plain]\n",
      "Saving to: ‘/tmp/glove.6B.100d.txt’\n",
      "\n",
      "/tmp/glove.6B.100d. 100%[===================>] 331.04M   121MB/s    in 2.7s    \n",
      "\n",
      "2020-01-27 02:35:11 (121 MB/s) - ‘/tmp/glove.6B.100d.txt’ saved [347116733/347116733]\n",
      "\n"
     ]
    }
   ],
   "source": [
    "# Note this is the 100 dimension version of GloVe from Stanford\n",
    "# I unzipped and hosted it on my site to make this notebook easier\n",
    "!wget --no-check-certificate \\\n",
    "    https://storage.googleapis.com/laurencemoroney-blog.appspot.com/glove.6B.100d.txt \\\n",
    "    -O /tmp/glove.6B.100d.txt\n",
    "embeddings_index = {};\n",
    "with open('/tmp/glove.6B.100d.txt') as f:\n",
    "    for line in f:\n",
    "        values = line.split();\n",
    "        word = values[0];\n",
    "        coefs = np.asarray(values[1:], dtype='float32');\n",
    "        embeddings_index[word] = coefs;\n",
    "\n",
    "embeddings_matrix = np.zeros((vocab_size+1, embedding_dim));\n",
    "for word, i in word_index.items():\n",
    "    embedding_vector = embeddings_index.get(word);\n",
    "    if embedding_vector is not None:\n",
    "        embeddings_matrix[i] = embedding_vector;"
   ]
  },
  {
   "cell_type": "code",
   "execution_count": 7,
   "metadata": {
    "colab": {
     "base_uri": "https://localhost:8080/",
     "height": 34
    },
    "colab_type": "code",
    "id": "71NLk_lpFLNt",
    "outputId": "832f9710-4c8a-49f7-dc78-54a8549859ea"
   },
   "outputs": [
    {
     "name": "stdout",
     "output_type": "stream",
     "text": [
      "138555\n"
     ]
    }
   ],
   "source": [
    "print(len(embeddings_matrix))\n",
    "# Expected Output\n",
    "# 138859"
   ]
  },
  {
   "cell_type": "code",
   "execution_count": 8,
   "metadata": {
    "colab": {
     "base_uri": "https://localhost:8080/",
     "height": 1000
    },
    "colab_type": "code",
    "id": "iKKvbuEBOGFz",
    "outputId": "6bd3616d-325d-44bc-e65d-57197a7ffebb"
   },
   "outputs": [
    {
     "name": "stdout",
     "output_type": "stream",
     "text": [
      "WARNING:tensorflow:From /usr/local/lib/python3.6/dist-packages/tensorflow_core/python/keras/initializers.py:119: calling RandomUniform.__init__ (from tensorflow.python.ops.init_ops) with dtype is deprecated and will be removed in a future version.\n",
      "Instructions for updating:\n",
      "Call initializer instance with the dtype argument instead of passing it to the constructor\n",
      "WARNING:tensorflow:From /usr/local/lib/python3.6/dist-packages/tensorflow_core/python/ops/resource_variable_ops.py:1630: calling BaseResourceVariable.__init__ (from tensorflow.python.ops.resource_variable_ops) with constraint is deprecated and will be removed in a future version.\n",
      "Instructions for updating:\n",
      "If using Keras pass *_constraint arguments to layers.\n",
      "WARNING:tensorflow:From /usr/local/lib/python3.6/dist-packages/tensorflow_core/python/ops/nn_impl.py:183: where (from tensorflow.python.ops.array_ops) is deprecated and will be removed in a future version.\n",
      "Instructions for updating:\n",
      "Use tf.where in 2.0, which has the same broadcast rule as np.where\n",
      "Model: \"sequential\"\n",
      "_________________________________________________________________\n",
      "Layer (type)                 Output Shape              Param #   \n",
      "=================================================================\n",
      "embedding (Embedding)        (None, 16, 100)           13855500  \n",
      "_________________________________________________________________\n",
      "dropout (Dropout)            (None, 16, 100)           0         \n",
      "_________________________________________________________________\n",
      "conv1d (Conv1D)              (None, 12, 64)            32064     \n",
      "_________________________________________________________________\n",
      "max_pooling1d (MaxPooling1D) (None, 3, 64)             0         \n",
      "_________________________________________________________________\n",
      "lstm (LSTM)                  (None, 64)                33024     \n",
      "_________________________________________________________________\n",
      "dense (Dense)                (None, 1)                 65        \n",
      "=================================================================\n",
      "Total params: 13,920,653\n",
      "Trainable params: 65,153\n",
      "Non-trainable params: 13,855,500\n",
      "_________________________________________________________________\n",
      "Train on 144000 samples, validate on 16000 samples\n",
      "Epoch 1/50\n",
      "144000/144000 - 40s - loss: 0.5676 - acc: 0.6978 - val_loss: 0.5324 - val_acc: 0.7293\n",
      "Epoch 2/50\n",
      "144000/144000 - 32s - loss: 0.5282 - acc: 0.7304 - val_loss: 0.5210 - val_acc: 0.7373\n",
      "Epoch 3/50\n",
      "144000/144000 - 32s - loss: 0.5111 - acc: 0.7426 - val_loss: 0.5139 - val_acc: 0.7436\n",
      "Epoch 4/50\n",
      "144000/144000 - 32s - loss: 0.5002 - acc: 0.7512 - val_loss: 0.5171 - val_acc: 0.7368\n",
      "Epoch 5/50\n",
      "144000/144000 - 32s - loss: 0.4917 - acc: 0.7563 - val_loss: 0.5063 - val_acc: 0.7525\n",
      "Epoch 6/50\n",
      "144000/144000 - 32s - loss: 0.4838 - acc: 0.7621 - val_loss: 0.5064 - val_acc: 0.7525\n",
      "Epoch 7/50\n",
      "144000/144000 - 32s - loss: 0.4786 - acc: 0.7653 - val_loss: 0.5050 - val_acc: 0.7528\n",
      "Epoch 8/50\n",
      "144000/144000 - 32s - loss: 0.4729 - acc: 0.7682 - val_loss: 0.5055 - val_acc: 0.7528\n",
      "Epoch 9/50\n",
      "144000/144000 - 32s - loss: 0.4696 - acc: 0.7706 - val_loss: 0.5074 - val_acc: 0.7517\n",
      "Epoch 10/50\n",
      "144000/144000 - 32s - loss: 0.4658 - acc: 0.7741 - val_loss: 0.5023 - val_acc: 0.7531\n",
      "Epoch 11/50\n",
      "144000/144000 - 32s - loss: 0.4617 - acc: 0.7758 - val_loss: 0.5055 - val_acc: 0.7501\n",
      "Epoch 12/50\n",
      "144000/144000 - 32s - loss: 0.4597 - acc: 0.7775 - val_loss: 0.5089 - val_acc: 0.7513\n",
      "Epoch 13/50\n",
      "144000/144000 - 32s - loss: 0.4571 - acc: 0.7787 - val_loss: 0.5152 - val_acc: 0.7487\n",
      "Epoch 14/50\n",
      "144000/144000 - 32s - loss: 0.4529 - acc: 0.7810 - val_loss: 0.5144 - val_acc: 0.7457\n",
      "Epoch 15/50\n",
      "144000/144000 - 32s - loss: 0.4517 - acc: 0.7821 - val_loss: 0.5191 - val_acc: 0.7491\n",
      "Epoch 16/50\n",
      "144000/144000 - 32s - loss: 0.4506 - acc: 0.7835 - val_loss: 0.5137 - val_acc: 0.7466\n",
      "Epoch 17/50\n",
      "144000/144000 - 32s - loss: 0.4494 - acc: 0.7833 - val_loss: 0.5190 - val_acc: 0.7467\n",
      "Epoch 18/50\n",
      "144000/144000 - 32s - loss: 0.4479 - acc: 0.7852 - val_loss: 0.5269 - val_acc: 0.7461\n",
      "Epoch 19/50\n",
      "144000/144000 - 31s - loss: 0.4452 - acc: 0.7855 - val_loss: 0.5229 - val_acc: 0.7410\n",
      "Epoch 20/50\n",
      "144000/144000 - 32s - loss: 0.4441 - acc: 0.7870 - val_loss: 0.5226 - val_acc: 0.7456\n",
      "Epoch 21/50\n",
      "144000/144000 - 32s - loss: 0.4441 - acc: 0.7858 - val_loss: 0.5213 - val_acc: 0.7449\n",
      "Epoch 22/50\n",
      "144000/144000 - 32s - loss: 0.4433 - acc: 0.7870 - val_loss: 0.5202 - val_acc: 0.7441\n",
      "Epoch 23/50\n",
      "144000/144000 - 32s - loss: 0.4420 - acc: 0.7885 - val_loss: 0.5221 - val_acc: 0.7420\n",
      "Epoch 24/50\n",
      "144000/144000 - 32s - loss: 0.4398 - acc: 0.7885 - val_loss: 0.5254 - val_acc: 0.7386\n",
      "Epoch 25/50\n",
      "144000/144000 - 32s - loss: 0.4384 - acc: 0.7890 - val_loss: 0.5227 - val_acc: 0.7423\n",
      "Epoch 26/50\n",
      "144000/144000 - 32s - loss: 0.4411 - acc: 0.7880 - val_loss: 0.5236 - val_acc: 0.7441\n",
      "Epoch 27/50\n",
      "144000/144000 - 31s - loss: 0.4382 - acc: 0.7905 - val_loss: 0.5213 - val_acc: 0.7436\n",
      "Epoch 28/50\n",
      "144000/144000 - 32s - loss: 0.4366 - acc: 0.7902 - val_loss: 0.5236 - val_acc: 0.7469\n",
      "Epoch 29/50\n",
      "144000/144000 - 31s - loss: 0.4373 - acc: 0.7917 - val_loss: 0.5211 - val_acc: 0.7430\n",
      "Epoch 30/50\n",
      "144000/144000 - 31s - loss: 0.4367 - acc: 0.7910 - val_loss: 0.5262 - val_acc: 0.7427\n",
      "Epoch 31/50\n",
      "144000/144000 - 31s - loss: 0.4360 - acc: 0.7911 - val_loss: 0.5304 - val_acc: 0.7401\n",
      "Epoch 32/50\n",
      "144000/144000 - 32s - loss: 0.4358 - acc: 0.7926 - val_loss: 0.5255 - val_acc: 0.7391\n",
      "Epoch 33/50\n",
      "144000/144000 - 32s - loss: 0.4341 - acc: 0.7931 - val_loss: 0.5274 - val_acc: 0.7430\n",
      "Epoch 34/50\n",
      "144000/144000 - 31s - loss: 0.4332 - acc: 0.7928 - val_loss: 0.5269 - val_acc: 0.7449\n",
      "Epoch 35/50\n",
      "144000/144000 - 31s - loss: 0.4333 - acc: 0.7929 - val_loss: 0.5251 - val_acc: 0.7460\n",
      "Epoch 36/50\n",
      "144000/144000 - 31s - loss: 0.4322 - acc: 0.7937 - val_loss: 0.5285 - val_acc: 0.7452\n",
      "Epoch 37/50\n",
      "144000/144000 - 31s - loss: 0.4322 - acc: 0.7949 - val_loss: 0.5317 - val_acc: 0.7398\n",
      "Epoch 38/50\n",
      "144000/144000 - 31s - loss: 0.4324 - acc: 0.7929 - val_loss: 0.5283 - val_acc: 0.7404\n",
      "Epoch 39/50\n",
      "144000/144000 - 31s - loss: 0.4320 - acc: 0.7950 - val_loss: 0.5247 - val_acc: 0.7448\n",
      "Epoch 40/50\n",
      "144000/144000 - 31s - loss: 0.4306 - acc: 0.7949 - val_loss: 0.5278 - val_acc: 0.7439\n",
      "Epoch 41/50\n",
      "144000/144000 - 32s - loss: 0.4299 - acc: 0.7950 - val_loss: 0.5326 - val_acc: 0.7401\n",
      "Epoch 42/50\n",
      "144000/144000 - 31s - loss: 0.4308 - acc: 0.7947 - val_loss: 0.5358 - val_acc: 0.7408\n",
      "Epoch 43/50\n",
      "144000/144000 - 31s - loss: 0.4294 - acc: 0.7955 - val_loss: 0.5341 - val_acc: 0.7389\n",
      "Epoch 44/50\n",
      "144000/144000 - 31s - loss: 0.4287 - acc: 0.7969 - val_loss: 0.5322 - val_acc: 0.7433\n",
      "Epoch 45/50\n",
      "144000/144000 - 31s - loss: 0.4296 - acc: 0.7960 - val_loss: 0.5297 - val_acc: 0.7451\n",
      "Epoch 46/50\n",
      "144000/144000 - 31s - loss: 0.4285 - acc: 0.7965 - val_loss: 0.5302 - val_acc: 0.7431\n",
      "Epoch 47/50\n",
      "144000/144000 - 31s - loss: 0.4293 - acc: 0.7952 - val_loss: 0.5339 - val_acc: 0.7433\n",
      "Epoch 48/50\n",
      "144000/144000 - 31s - loss: 0.4282 - acc: 0.7963 - val_loss: 0.5322 - val_acc: 0.7433\n",
      "Epoch 49/50\n",
      "144000/144000 - 31s - loss: 0.4300 - acc: 0.7949 - val_loss: 0.5304 - val_acc: 0.7430\n",
      "Epoch 50/50\n",
      "144000/144000 - 31s - loss: 0.4298 - acc: 0.7960 - val_loss: 0.5315 - val_acc: 0.7409\n",
      "Training Complete\n"
     ]
    }
   ],
   "source": [
    "model = tf.keras.Sequential([\n",
    "    tf.keras.layers.Embedding(vocab_size+1, embedding_dim, input_length=max_length, weights=[embeddings_matrix], trainable=False),\n",
    "    tf.keras.layers.Dropout(0.2),\n",
    "    tf.keras.layers.Conv1D(64, 5, activation='relu'),\n",
    "    tf.keras.layers.MaxPooling1D(pool_size=4),\n",
    "    tf.keras.layers.LSTM(64),\n",
    "    tf.keras.layers.Dense(1, activation='sigmoid')\n",
    "])\n",
    "model.compile(loss='binary_crossentropy',optimizer='adam',metrics=['accuracy'])\n",
    "model.summary()\n",
    "\n",
    "num_epochs = 50\n",
    "history = model.fit(training_sequences, training_labels, epochs=num_epochs, validation_data=(test_sequences, test_labels), verbose=2)\n",
    "\n",
    "print(\"Training Complete\")\n"
   ]
  },
  {
   "cell_type": "code",
   "execution_count": 9,
   "metadata": {
    "colab": {
     "base_uri": "https://localhost:8080/",
     "height": 607
    },
    "colab_type": "code",
    "id": "qxju4ItJKO8F",
    "outputId": "b58b562e-5f7a-49ee-a468-c5e3cac61bb4"
   },
   "outputs": [
    {
     "data": {
      "text/plain": [
       "<Figure size 432x288 with 0 Axes>"
      ]
     },
     "execution_count": 9,
     "metadata": {
      "tags": []
     },
     "output_type": "execute_result"
    },
    {
     "data": {
      "image/png": "[encoded data removed]",
      "text/plain": [
       "<Figure size 432x288 with 1 Axes>"
      ]
     },
     "metadata": {
      "tags": []
     },
     "output_type": "display_data"
    },
    {
     "data": {
      "image/png": "[encoded data removed]",
      "text/plain": [
       "<Figure size 432x288 with 1 Axes>"
      ]
     },
     "metadata": {
      "tags": []
     },
     "output_type": "display_data"
    },
    {
     "data": {
      "text/plain": [
       "<Figure size 432x288 with 0 Axes>"
      ]
     },
     "metadata": {
      "tags": []
     },
     "output_type": "display_data"
    }
   ],
   "source": [
    "import matplotlib.image  as mpimg\n",
    "import matplotlib.pyplot as plt\n",
    "\n",
    "#-----------------------------------------------------------\n",
    "# Retrieve a list of list results on training and test data\n",
    "# sets for each training epoch\n",
    "#-----------------------------------------------------------\n",
    "acc=history.history['acc']\n",
    "val_acc=history.history['val_acc']\n",
    "loss=history.history['loss']\n",
    "val_loss=history.history['val_loss']\n",
    "\n",
    "epochs=range(len(acc)) # Get number of epochs\n",
    "\n",
    "#------------------------------------------------\n",
    "# Plot training and validation accuracy per epoch\n",
    "#------------------------------------------------\n",
    "plt.plot(epochs, acc, 'r')\n",
    "plt.plot(epochs, val_acc, 'b')\n",
    "plt.title('Training and validation accuracy')\n",
    "plt.xlabel(\"Epochs\")\n",
    "plt.ylabel(\"Accuracy\")\n",
    "plt.legend([\"Accuracy\", \"Validation Accuracy\"])\n",
    "\n",
    "plt.figure()\n",
    "\n",
    "#------------------------------------------------\n",
    "# Plot training and validation loss per epoch\n",
    "#------------------------------------------------\n",
    "plt.plot(epochs, loss, 'r')\n",
    "plt.plot(epochs, val_loss, 'b')\n",
    "plt.title('Training and validation loss')\n",
    "plt.xlabel(\"Epochs\")\n",
    "plt.ylabel(\"Loss\")\n",
    "plt.legend([\"Loss\", \"Validation Loss\"])\n",
    "\n",
    "plt.figure()\n",
    "\n",
    "\n",
    "# Expected Output\n",
    "# A chart where the validation loss does not increase sharply!"
   ]
  }
 ],
 "metadata": {
  "accelerator": "GPU",
  "colab": {
   "name": "NLP Course - Week 3 Exercise Answer.ipynb",
   "provenance": []
  },
  "kernelspec": {
   "display_name": "Python 3",
   "language": "python",
   "name": "python3"
  },
  "language_info": {
   "codemirror_mode": {
    "name": "ipython",
    "version": 3
   },
   "file_extension": ".py",
   "mimetype": "text/x-python",
   "name": "python",
   "nbconvert_exporter": "python",
   "pygments_lexer": "ipython3",
   "version": "3.7.4"
  }
 },
 "nbformat": 4,
 "nbformat_minor": 1
}
