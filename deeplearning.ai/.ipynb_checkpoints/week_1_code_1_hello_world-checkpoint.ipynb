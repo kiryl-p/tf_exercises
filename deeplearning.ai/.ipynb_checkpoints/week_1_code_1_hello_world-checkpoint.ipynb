{
 "cells": [
  {
   "cell_type": "markdown",
   "metadata": {},
   "source": [
    "***\n",
    "'Hello World' of Deep Learning\n",
    "***"
   ]
  },
  {
   "cell_type": "markdown",
   "metadata": {},
   "source": [
    "IMPORTS"
   ]
  },
  {
   "cell_type": "code",
   "execution_count": 1,
   "metadata": {},
   "outputs": [],
   "source": [
    "import numpy as np\n",
    "import tensorflow as tf\n",
    "from tensorflow import keras"
   ]
  },
  {
   "cell_type": "markdown",
   "metadata": {},
   "source": [
    "DEFINE and COMPILE the NN\n",
    "\n",
    "Create the simplest NN. It contains 1 layer, and that layer has 1 neuron, and the input shape to it is just 1 value"
   ]
  },
  {
   "cell_type": "code",
   "execution_count": 2,
   "metadata": {},
   "outputs": [],
   "source": [
    "model= keras.Sequential([keras.layers.Dense(units= 1, input_shape=[1])])"
   ]
  },
  {
   "cell_type": "code",
   "execution_count": 3,
   "metadata": {},
   "outputs": [],
   "source": [
    "model.compile(optimizer= 'sgd', loss= 'mean_squared_error')"
   ]
  },
  {
   "cell_type": "markdown",
   "metadata": {},
   "source": [
    "PROVIDING DATA"
   ]
  },
  {
   "cell_type": "code",
   "execution_count": 4,
   "metadata": {},
   "outputs": [],
   "source": [
    "xs= np.array([-1.0, 0.0, 1.0, 2.0, 3.0, 4.0], dtype= float)\n",
    "ys= np.array([-3.0, -1.0, 1.0, 3.0, 5.0, 7.0], dtype= float)"
   ]
  },
  {
   "cell_type": "markdown",
   "metadata": {},
   "source": [
    "TRAINING the NN"
   ]
  },
  {
   "cell_type": "code",
   "execution_count": 5,
   "metadata": {},
   "outputs": [
    {
     "name": "stdout",
     "output_type": "stream",
     "text": [
      "Train on 6 samples\n",
      "Epoch 1/100\n",
      "6/6 [==============================] - 1s 127ms/sample - loss: 34.9946\n",
      "Epoch 2/100\n",
      "6/6 [==============================] - 0s 333us/sample - loss: 27.8664\n",
      "Epoch 3/100\n",
      "6/6 [==============================] - 0s 333us/sample - loss: 22.2514\n",
      "Epoch 4/100\n",
      "6/6 [==============================] - 0s 333us/sample - loss: 17.8270\n",
      "Epoch 5/100\n",
      "6/6 [==============================] - 0s 499us/sample - loss: 14.3396\n",
      "Epoch 6/100\n",
      "6/6 [==============================] - 0s 333us/sample - loss: 11.5894\n",
      "Epoch 7/100\n",
      "6/6 [==============================] - 0s 332us/sample - loss: 9.4193\n",
      "Epoch 8/100\n",
      "6/6 [==============================] - 0s 499us/sample - loss: 7.7058\n",
      "Epoch 9/100\n",
      "6/6 [==============================] - 0s 499us/sample - loss: 6.3517\n",
      "Epoch 10/100\n",
      "6/6 [==============================] - 0s 497us/sample - loss: 5.2804\n",
      "Epoch 11/100\n",
      "6/6 [==============================] - 0s 499us/sample - loss: 4.4317\n",
      "Epoch 12/100\n",
      "6/6 [==============================] - 0s 333us/sample - loss: 3.7583\n",
      "Epoch 13/100\n",
      "6/6 [==============================] - 0s 333us/sample - loss: 3.2229\n",
      "Epoch 14/100\n",
      "6/6 [==============================] - 0s 498us/sample - loss: 2.7963\n",
      "Epoch 15/100\n",
      "6/6 [==============================] - 0s 499us/sample - loss: 2.4552\n",
      "Epoch 16/100\n",
      "6/6 [==============================] - 0s 499us/sample - loss: 2.1817\n",
      "Epoch 17/100\n",
      "6/6 [==============================] - 0s 333us/sample - loss: 1.9613\n",
      "Epoch 18/100\n",
      "6/6 [==============================] - 0s 333us/sample - loss: 1.7829\n",
      "Epoch 19/100\n",
      "6/6 [==============================] - 0s 498us/sample - loss: 1.6376\n",
      "Epoch 20/100\n",
      "6/6 [==============================] - 0s 498us/sample - loss: 1.5185\n",
      "Epoch 21/100\n",
      "6/6 [==============================] - 0s 498us/sample - loss: 1.4201\n",
      "Epoch 22/100\n",
      "6/6 [==============================] - 0s 499us/sample - loss: 1.3380\n",
      "Epoch 23/100\n",
      "6/6 [==============================] - 0s 499us/sample - loss: 1.2689\n",
      "Epoch 24/100\n",
      "6/6 [==============================] - 0s 333us/sample - loss: 1.2100\n",
      "Epoch 25/100\n",
      "6/6 [==============================] - 0s 500us/sample - loss: 1.1594\n",
      "Epoch 26/100\n",
      "6/6 [==============================] - 0s 499us/sample - loss: 1.1153\n",
      "Epoch 27/100\n",
      "6/6 [==============================] - 0s 332us/sample - loss: 1.0765\n",
      "Epoch 28/100\n",
      "6/6 [==============================] - 0s 332us/sample - loss: 1.0418\n",
      "Epoch 29/100\n",
      "6/6 [==============================] - 0s 333us/sample - loss: 1.0105\n",
      "Epoch 30/100\n",
      "6/6 [==============================] - 0s 333us/sample - loss: 0.9820\n",
      "Epoch 31/100\n",
      "6/6 [==============================] - 0s 499us/sample - loss: 0.9557\n",
      "Epoch 32/100\n",
      "6/6 [==============================] - 0s 330us/sample - loss: 0.9313\n",
      "Epoch 33/100\n",
      "6/6 [==============================] - 0s 333us/sample - loss: 0.9084\n",
      "Epoch 34/100\n",
      "6/6 [==============================] - 0s 333us/sample - loss: 0.8867\n",
      "Epoch 35/100\n",
      "6/6 [==============================] - 0s 501us/sample - loss: 0.8662\n",
      "Epoch 36/100\n",
      "6/6 [==============================] - 0s 333us/sample - loss: 0.8466\n",
      "Epoch 37/100\n",
      "6/6 [==============================] - 0s 333us/sample - loss: 0.8277\n",
      "Epoch 38/100\n",
      "6/6 [==============================] - 0s 499us/sample - loss: 0.8096\n",
      "Epoch 39/100\n",
      "6/6 [==============================] - 0s 332us/sample - loss: 0.7921\n",
      "Epoch 40/100\n",
      "6/6 [==============================] - 0s 332us/sample - loss: 0.7751\n",
      "Epoch 41/100\n",
      "6/6 [==============================] - 0s 499us/sample - loss: 0.7586\n",
      "Epoch 42/100\n",
      "6/6 [==============================] - 0s 332us/sample - loss: 0.7426\n",
      "Epoch 43/100\n",
      "6/6 [==============================] - 0s 332us/sample - loss: 0.7270\n",
      "Epoch 44/100\n",
      "6/6 [==============================] - 0s 831us/sample - loss: 0.7118\n",
      "Epoch 45/100\n",
      "6/6 [==============================] - 0s 332us/sample - loss: 0.6969\n",
      "Epoch 46/100\n",
      "6/6 [==============================] - 0s 332us/sample - loss: 0.6825\n",
      "Epoch 47/100\n",
      "6/6 [==============================] - 0s 665us/sample - loss: 0.6683\n",
      "Epoch 48/100\n",
      "6/6 [==============================] - 0s 333us/sample - loss: 0.6545\n",
      "Epoch 49/100\n",
      "6/6 [==============================] - 0s 333us/sample - loss: 0.6410\n",
      "Epoch 50/100\n",
      "6/6 [==============================] - 0s 665us/sample - loss: 0.6277\n",
      "Epoch 51/100\n",
      "6/6 [==============================] - 0s 499us/sample - loss: 0.6148\n",
      "Epoch 52/100\n",
      "6/6 [==============================] - 0s 332us/sample - loss: 0.6021\n",
      "Epoch 53/100\n",
      "6/6 [==============================] - 0s 499us/sample - loss: 0.5897\n",
      "Epoch 54/100\n",
      "6/6 [==============================] - 0s 334us/sample - loss: 0.5776\n",
      "Epoch 55/100\n",
      "6/6 [==============================] - 0s 333us/sample - loss: 0.5657\n",
      "Epoch 56/100\n",
      "6/6 [==============================] - 0s 332us/sample - loss: 0.5541\n",
      "Epoch 57/100\n",
      "6/6 [==============================] - 0s 333us/sample - loss: 0.5427\n",
      "Epoch 58/100\n",
      "6/6 [==============================] - 0s 332us/sample - loss: 0.5315\n",
      "Epoch 59/100\n",
      "6/6 [==============================] - 0s 499us/sample - loss: 0.5206\n",
      "Epoch 60/100\n",
      "6/6 [==============================] - 0s 333us/sample - loss: 0.5099\n",
      "Epoch 61/100\n",
      "6/6 [==============================] - 0s 333us/sample - loss: 0.4994\n",
      "Epoch 62/100\n",
      "6/6 [==============================] - 0s 499us/sample - loss: 0.4892\n",
      "Epoch 63/100\n",
      "6/6 [==============================] - 0s 332us/sample - loss: 0.4791\n",
      "Epoch 64/100\n",
      "6/6 [==============================] - 0s 331us/sample - loss: 0.4693\n",
      "Epoch 65/100\n",
      "6/6 [==============================] - 0s 333us/sample - loss: 0.4596\n",
      "Epoch 66/100\n",
      "6/6 [==============================] - 0s 331us/sample - loss: 0.4502\n",
      "Epoch 67/100\n",
      "6/6 [==============================] - 0s 332us/sample - loss: 0.4409\n",
      "Epoch 68/100\n",
      "6/6 [==============================] - 0s 332us/sample - loss: 0.4319\n",
      "Epoch 69/100\n",
      "6/6 [==============================] - 0s 332us/sample - loss: 0.4230\n",
      "Epoch 70/100\n",
      "6/6 [==============================] - 0s 665us/sample - loss: 0.4143\n",
      "Epoch 71/100\n",
      "6/6 [==============================] - 0s 499us/sample - loss: 0.4058\n",
      "Epoch 72/100\n",
      "6/6 [==============================] - 0s 499us/sample - loss: 0.3975\n",
      "Epoch 73/100\n",
      "6/6 [==============================] - 0s 499us/sample - loss: 0.3893\n",
      "Epoch 74/100\n",
      "6/6 [==============================] - 0s 499us/sample - loss: 0.3813\n",
      "Epoch 75/100\n",
      "6/6 [==============================] - 0s 499us/sample - loss: 0.3735\n",
      "Epoch 76/100\n",
      "6/6 [==============================] - 0s 499us/sample - loss: 0.3658\n",
      "Epoch 77/100\n",
      "6/6 [==============================] - 0s 665us/sample - loss: 0.3583\n",
      "Epoch 78/100\n",
      "6/6 [==============================] - 0s 333us/sample - loss: 0.3509\n",
      "Epoch 79/100\n",
      "6/6 [==============================] - 0s 333us/sample - loss: 0.3437\n",
      "Epoch 80/100\n",
      "6/6 [==============================] - 0s 333us/sample - loss: 0.3367\n",
      "Epoch 81/100\n",
      "6/6 [==============================] - 0s 333us/sample - loss: 0.3297\n",
      "Epoch 82/100\n",
      "6/6 [==============================] - 0s 333us/sample - loss: 0.3230\n",
      "Epoch 83/100\n",
      "6/6 [==============================] - 0s 499us/sample - loss: 0.3163\n",
      "Epoch 84/100\n",
      "6/6 [==============================] - 0s 499us/sample - loss: 0.3098\n",
      "Epoch 85/100\n",
      "6/6 [==============================] - 0s 499us/sample - loss: 0.3035\n",
      "Epoch 86/100\n",
      "6/6 [==============================] - 0s 500us/sample - loss: 0.2972\n",
      "Epoch 87/100\n",
      "6/6 [==============================] - 0s 501us/sample - loss: 0.2911\n",
      "Epoch 88/100\n",
      "6/6 [==============================] - 0s 332us/sample - loss: 0.2852\n",
      "Epoch 89/100\n",
      "6/6 [==============================] - 0s 333us/sample - loss: 0.2793\n",
      "Epoch 90/100\n",
      "6/6 [==============================] - 0s 332us/sample - loss: 0.2736\n",
      "Epoch 91/100\n",
      "6/6 [==============================] - 0s 334us/sample - loss: 0.2679\n",
      "Epoch 92/100\n",
      "6/6 [==============================] - 0s 332us/sample - loss: 0.2624\n",
      "Epoch 93/100\n",
      "6/6 [==============================] - 0s 332us/sample - loss: 0.2570\n",
      "Epoch 94/100\n",
      "6/6 [==============================] - 0s 499us/sample - loss: 0.2518\n",
      "Epoch 95/100\n",
      "6/6 [==============================] - 0s 333us/sample - loss: 0.2466\n",
      "Epoch 96/100\n",
      "6/6 [==============================] - 0s 333us/sample - loss: 0.2415\n",
      "Epoch 97/100\n",
      "6/6 [==============================] - 0s 499us/sample - loss: 0.2366\n",
      "Epoch 98/100\n",
      "6/6 [==============================] - 0s 333us/sample - loss: 0.2317\n",
      "Epoch 99/100\n",
      "6/6 [==============================] - 0s 333us/sample - loss: 0.2269\n"
     ]
    },
    {
     "name": "stdout",
     "output_type": "stream",
     "text": [
      "Epoch 100/100\n",
      "6/6 [==============================] - 0s 499us/sample - loss: 0.2223\n"
     ]
    },
    {
     "data": {
      "text/plain": [
       "<tensorflow.python.keras.callbacks.History at 0x1677ef84348>"
      ]
     },
     "execution_count": 5,
     "metadata": {},
     "output_type": "execute_result"
    }
   ],
   "source": [
    "model.fit(xs, ys, epochs= 100)"
   ]
  },
  {
   "cell_type": "code",
   "execution_count": 6,
   "metadata": {},
   "outputs": [
    {
     "name": "stdout",
     "output_type": "stream",
     "text": [
      "[[17.624292]]\n"
     ]
    }
   ],
   "source": [
    "print(model.predict([10.0]))"
   ]
  },
  {
   "cell_type": "code",
   "execution_count": 7,
   "metadata": {},
   "outputs": [
    {
     "name": "stdout",
     "output_type": "stream",
     "text": [
      "[[ 8.621194]\n",
      " [10.421813]]\n"
     ]
    }
   ],
   "source": [
    "print(model.predict([5.0, 6.0]))"
   ]
  }
 ],
 "metadata": {
  "kernelspec": {
   "display_name": "Python 3",
   "language": "python",
   "name": "python3"
  },
  "language_info": {
   "codemirror_mode": {
    "name": "ipython",
    "version": 3
   },
   "file_extension": ".py",
   "mimetype": "text/x-python",
   "name": "python",
   "nbconvert_exporter": "python",
   "pygments_lexer": "ipython3",
   "version": "3.7.5"
  }
 },
 "nbformat": 4,
 "nbformat_minor": 2
}
